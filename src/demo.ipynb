{
 "metadata": {
  "language_info": {
   "codemirror_mode": {
    "name": "ipython",
    "version": 3
   },
   "file_extension": ".py",
   "mimetype": "text/x-python",
   "name": "python",
   "nbconvert_exporter": "python",
   "pygments_lexer": "ipython3",
   "version": "3.8.5-final"
  },
  "orig_nbformat": 2,
  "kernelspec": {
   "name": "python38564bit18d4156a4e95478ca9c2dd8e10bb0544",
   "display_name": "Python 3.8.5 64-bit",
   "language": "python"
  }
 },
 "nbformat": 4,
 "nbformat_minor": 2,
 "cells": [
  {
   "cell_type": "code",
   "execution_count": 1,
   "metadata": {},
   "outputs": [],
   "source": [
    "%load_ext autoreload\n",
    "%autoreload 2"
   ]
  },
  {
   "cell_type": "code",
   "execution_count": 2,
   "metadata": {},
   "outputs": [],
   "source": [
    "import numpy as np\n",
    "from matplotlib import pyplot as plt\n",
    "from scipy.stats import multivariate_normal"
   ]
  },
  {
   "cell_type": "code",
   "execution_count": 3,
   "metadata": {},
   "outputs": [],
   "source": [
    "from random_features import RFF"
   ]
  },
  {
   "cell_type": "code",
   "execution_count": 4,
   "metadata": {},
   "outputs": [],
   "source": [
    "sampler = lambda shape: multivariate_normal(mean=[0]*3, cov=np.eye(3)).rvs(size=np.product(shape))"
   ]
  },
  {
   "cell_type": "code",
   "execution_count": 5,
   "metadata": {},
   "outputs": [],
   "source": [
    "n_features = 20\n",
    "assert n_features % 2 == 0\n",
    "rff = RFF(n_features=n_features // 2, w_sampler=sampler, dim=3)"
   ]
  },
  {
   "cell_type": "code",
   "execution_count": 6,
   "metadata": {},
   "outputs": [],
   "source": [
    "pts = np.arange(0, 1, 0.1).reshape(-1, 1).repeat(3, axis=1)"
   ]
  },
  {
   "cell_type": "code",
   "execution_count": 7,
   "metadata": {},
   "outputs": [],
   "source": [
    "features = rff.get_random_features(pts)"
   ]
  },
  {
   "cell_type": "code",
   "execution_count": 8,
   "metadata": {},
   "outputs": [],
   "source": [
    "assert features.shape == (len(pts), n_features)"
   ]
  },
  {
   "source": [
    "# Main Part"
   ],
   "cell_type": "markdown",
   "metadata": {}
  },
  {
   "cell_type": "code",
   "execution_count": 9,
   "metadata": {},
   "outputs": [],
   "source": [
    "from data_utils import Landscape"
   ]
  },
  {
   "cell_type": "code",
   "execution_count": 37,
   "metadata": {},
   "outputs": [],
   "source": [
    "landscape = Landscape(num_landmarks=20)\n",
    "landscape.initialize()"
   ]
  },
  {
   "cell_type": "code",
   "execution_count": 38,
   "metadata": {},
   "outputs": [
    {
     "output_type": "execute_result",
     "data": {
      "text/plain": [
       "<matplotlib.collections.PathCollection at 0x7f87903d13a0>"
      ]
     },
     "metadata": {},
     "execution_count": 38
    },
    {
     "output_type": "display_data",
     "data": {
      "text/plain": "<Figure size 432x288 with 1 Axes>",
      "image/svg+xml": "<?xml version=\"1.0\" encoding=\"utf-8\" standalone=\"no\"?>\n<!DOCTYPE svg PUBLIC \"-//W3C//DTD SVG 1.1//EN\"\n  \"http://www.w3.org/Graphics/SVG/1.1/DTD/svg11.dtd\">\n<!-- Created with matplotlib (https://matplotlib.org/) -->\n<svg height=\"248.518125pt\" version=\"1.1\" viewBox=\"0 0 386.845312 248.518125\" width=\"386.845312pt\" xmlns=\"http://www.w3.org/2000/svg\" xmlns:xlink=\"http://www.w3.org/1999/xlink\">\n <metadata>\n  <rdf:RDF xmlns:cc=\"http://creativecommons.org/ns#\" xmlns:dc=\"http://purl.org/dc/elements/1.1/\" xmlns:rdf=\"http://www.w3.org/1999/02/22-rdf-syntax-ns#\">\n   <cc:Work>\n    <dc:type rdf:resource=\"http://purl.org/dc/dcmitype/StillImage\"/>\n    <dc:date>2021-03-23T16:04:24.695684</dc:date>\n    <dc:format>image/svg+xml</dc:format>\n    <dc:creator>\n     <cc:Agent>\n      <dc:title>Matplotlib v3.3.2, https://matplotlib.org/</dc:title>\n     </cc:Agent>\n    </dc:creator>\n   </cc:Work>\n  </rdf:RDF>\n </metadata>\n <defs>\n  <style type=\"text/css\">*{stroke-linecap:butt;stroke-linejoin:round;}</style>\n </defs>\n <g id=\"figure_1\">\n  <g id=\"patch_1\">\n   <path d=\"M 0 248.518125 \nL 386.845312 248.518125 \nL 386.845312 0 \nL 0 0 \nz\n\" style=\"fill:none;\"/>\n  </g>\n  <g id=\"axes_1\">\n   <g id=\"patch_2\">\n    <path d=\"M 44.845313 224.64 \nL 379.645313 224.64 \nL 379.645313 7.2 \nL 44.845313 7.2 \nz\n\" style=\"fill:#ffffff;\"/>\n   </g>\n   <g id=\"PathCollection_1\">\n    <defs>\n     <path d=\"M 0 6.123724 \nC 1.624031 6.123724 3.181764 5.47849 4.330127 4.330127 \nC 5.47849 3.181764 6.123724 1.624031 6.123724 0 \nC 6.123724 -1.624031 5.47849 -3.181764 4.330127 -4.330127 \nC 3.181764 -5.47849 1.624031 -6.123724 0 -6.123724 \nC -1.624031 -6.123724 -3.181764 -5.47849 -4.330127 -4.330127 \nC -5.47849 -3.181764 -6.123724 -1.624031 -6.123724 0 \nC -6.123724 1.624031 -5.47849 3.181764 -4.330127 4.330127 \nC -3.181764 5.47849 -1.624031 6.123724 0 6.123724 \nz\n\" id=\"m0acf8bf5f2\" style=\"stroke:#1f77b4;stroke-opacity:0.8;\"/>\n    </defs>\n    <g clip-path=\"url(#p1ae04ccb69)\">\n     <use style=\"fill:#1f77b4;fill-opacity:0.8;stroke:#1f77b4;stroke-opacity:0.8;\" x=\"216.374645\" xlink:href=\"#m0acf8bf5f2\" y=\"166.30206\"/>\n     <use style=\"fill:#1f77b4;fill-opacity:0.8;stroke:#1f77b4;stroke-opacity:0.8;\" x=\"320.65455\" xlink:href=\"#m0acf8bf5f2\" y=\"17.083636\"/>\n     <use style=\"fill:#1f77b4;fill-opacity:0.8;stroke:#1f77b4;stroke-opacity:0.8;\" x=\"364.427131\" xlink:href=\"#m0acf8bf5f2\" y=\"34.996423\"/>\n     <use style=\"fill:#1f77b4;fill-opacity:0.8;stroke:#1f77b4;stroke-opacity:0.8;\" x=\"203.115296\" xlink:href=\"#m0acf8bf5f2\" y=\"95.069938\"/>\n     <use style=\"fill:#1f77b4;fill-opacity:0.8;stroke:#1f77b4;stroke-opacity:0.8;\" x=\"97.059637\" xlink:href=\"#m0acf8bf5f2\" y=\"73.60156\"/>\n     <use style=\"fill:#1f77b4;fill-opacity:0.8;stroke:#1f77b4;stroke-opacity:0.8;\" x=\"182.026454\" xlink:href=\"#m0acf8bf5f2\" y=\"34.427276\"/>\n     <use style=\"fill:#1f77b4;fill-opacity:0.8;stroke:#1f77b4;stroke-opacity:0.8;\" x=\"106.78367\" xlink:href=\"#m0acf8bf5f2\" y=\"182.266196\"/>\n     <use style=\"fill:#1f77b4;fill-opacity:0.8;stroke:#1f77b4;stroke-opacity:0.8;\" x=\"180.344703\" xlink:href=\"#m0acf8bf5f2\" y=\"214.756364\"/>\n     <use style=\"fill:#1f77b4;fill-opacity:0.8;stroke:#1f77b4;stroke-opacity:0.8;\" x=\"256.835832\" xlink:href=\"#m0acf8bf5f2\" y=\"108.925603\"/>\n     <use style=\"fill:#1f77b4;fill-opacity:0.8;stroke:#1f77b4;stroke-opacity:0.8;\" x=\"148.449673\" xlink:href=\"#m0acf8bf5f2\" y=\"93.838855\"/>\n     <use style=\"fill:#1f77b4;fill-opacity:0.8;stroke:#1f77b4;stroke-opacity:0.8;\" x=\"60.063494\" xlink:href=\"#m0acf8bf5f2\" y=\"26.078839\"/>\n     <use style=\"fill:#1f77b4;fill-opacity:0.8;stroke:#1f77b4;stroke-opacity:0.8;\" x=\"96.046216\" xlink:href=\"#m0acf8bf5f2\" y=\"25.646915\"/>\n     <use style=\"fill:#1f77b4;fill-opacity:0.8;stroke:#1f77b4;stroke-opacity:0.8;\" x=\"247.789068\" xlink:href=\"#m0acf8bf5f2\" y=\"203.172992\"/>\n     <use style=\"fill:#1f77b4;fill-opacity:0.8;stroke:#1f77b4;stroke-opacity:0.8;\" x=\"338.506467\" xlink:href=\"#m0acf8bf5f2\" y=\"167.938809\"/>\n     <use style=\"fill:#1f77b4;fill-opacity:0.8;stroke:#1f77b4;stroke-opacity:0.8;\" x=\"192.802357\" xlink:href=\"#m0acf8bf5f2\" y=\"165.041425\"/>\n     <use style=\"fill:#1f77b4;fill-opacity:0.8;stroke:#1f77b4;stroke-opacity:0.8;\" x=\"229.240883\" xlink:href=\"#m0acf8bf5f2\" y=\"84.631725\"/>\n     <use style=\"fill:#1f77b4;fill-opacity:0.8;stroke:#1f77b4;stroke-opacity:0.8;\" x=\"113.903199\" xlink:href=\"#m0acf8bf5f2\" y=\"86.467103\"/>\n     <use style=\"fill:#1f77b4;fill-opacity:0.8;stroke:#1f77b4;stroke-opacity:0.8;\" x=\"284.476611\" xlink:href=\"#m0acf8bf5f2\" y=\"106.31476\"/>\n     <use style=\"fill:#1f77b4;fill-opacity:0.8;stroke:#1f77b4;stroke-opacity:0.8;\" x=\"132.443631\" xlink:href=\"#m0acf8bf5f2\" y=\"69.365785\"/>\n     <use style=\"fill:#1f77b4;fill-opacity:0.8;stroke:#1f77b4;stroke-opacity:0.8;\" x=\"266.810848\" xlink:href=\"#m0acf8bf5f2\" y=\"156.741793\"/>\n    </g>\n   </g>\n   <g id=\"matplotlib.axis_1\">\n    <g id=\"xtick_1\">\n     <g id=\"line2d_1\">\n      <defs>\n       <path d=\"M 0 0 \nL 0 3.5 \n\" id=\"m4e2d52422e\" style=\"stroke:#000000;stroke-width:0.8;\"/>\n      </defs>\n      <g>\n       <use style=\"stroke:#000000;stroke-width:0.8;\" x=\"74.260813\" xlink:href=\"#m4e2d52422e\" y=\"224.64\"/>\n      </g>\n     </g>\n     <g id=\"text_1\">\n      <!-- −7.5 -->\n      <g transform=\"translate(62.119406 239.238437)scale(0.1 -0.1)\">\n       <defs>\n        <path d=\"M 10.59375 35.5 \nL 73.1875 35.5 \nL 73.1875 27.203125 \nL 10.59375 27.203125 \nz\n\" id=\"DejaVuSans-8722\"/>\n        <path d=\"M 8.203125 72.90625 \nL 55.078125 72.90625 \nL 55.078125 68.703125 \nL 28.609375 0 \nL 18.3125 0 \nL 43.21875 64.59375 \nL 8.203125 64.59375 \nz\n\" id=\"DejaVuSans-55\"/>\n        <path d=\"M 10.6875 12.40625 \nL 21 12.40625 \nL 21 0 \nL 10.6875 0 \nz\n\" id=\"DejaVuSans-46\"/>\n        <path d=\"M 10.796875 72.90625 \nL 49.515625 72.90625 \nL 49.515625 64.59375 \nL 19.828125 64.59375 \nL 19.828125 46.734375 \nQ 21.96875 47.46875 24.109375 47.828125 \nQ 26.265625 48.1875 28.421875 48.1875 \nQ 40.625 48.1875 47.75 41.5 \nQ 54.890625 34.8125 54.890625 23.390625 \nQ 54.890625 11.625 47.5625 5.09375 \nQ 40.234375 -1.421875 26.90625 -1.421875 \nQ 22.3125 -1.421875 17.546875 -0.640625 \nQ 12.796875 0.140625 7.71875 1.703125 \nL 7.71875 11.625 \nQ 12.109375 9.234375 16.796875 8.0625 \nQ 21.484375 6.890625 26.703125 6.890625 \nQ 35.15625 6.890625 40.078125 11.328125 \nQ 45.015625 15.765625 45.015625 23.390625 \nQ 45.015625 31 40.078125 35.4375 \nQ 35.15625 39.890625 26.703125 39.890625 \nQ 22.75 39.890625 18.8125 39.015625 \nQ 14.890625 38.140625 10.796875 36.28125 \nz\n\" id=\"DejaVuSans-53\"/>\n       </defs>\n       <use xlink:href=\"#DejaVuSans-8722\"/>\n       <use x=\"83.789062\" xlink:href=\"#DejaVuSans-55\"/>\n       <use x=\"147.412109\" xlink:href=\"#DejaVuSans-46\"/>\n       <use x=\"179.199219\" xlink:href=\"#DejaVuSans-53\"/>\n      </g>\n     </g>\n    </g>\n    <g id=\"xtick_2\">\n     <g id=\"line2d_2\">\n      <g>\n       <use style=\"stroke:#000000;stroke-width:0.8;\" x=\"119.433909\" xlink:href=\"#m4e2d52422e\" y=\"224.64\"/>\n      </g>\n     </g>\n     <g id=\"text_2\">\n      <!-- −5.0 -->\n      <g transform=\"translate(107.292503 239.238437)scale(0.1 -0.1)\">\n       <defs>\n        <path d=\"M 31.78125 66.40625 \nQ 24.171875 66.40625 20.328125 58.90625 \nQ 16.5 51.421875 16.5 36.375 \nQ 16.5 21.390625 20.328125 13.890625 \nQ 24.171875 6.390625 31.78125 6.390625 \nQ 39.453125 6.390625 43.28125 13.890625 \nQ 47.125 21.390625 47.125 36.375 \nQ 47.125 51.421875 43.28125 58.90625 \nQ 39.453125 66.40625 31.78125 66.40625 \nz\nM 31.78125 74.21875 \nQ 44.046875 74.21875 50.515625 64.515625 \nQ 56.984375 54.828125 56.984375 36.375 \nQ 56.984375 17.96875 50.515625 8.265625 \nQ 44.046875 -1.421875 31.78125 -1.421875 \nQ 19.53125 -1.421875 13.0625 8.265625 \nQ 6.59375 17.96875 6.59375 36.375 \nQ 6.59375 54.828125 13.0625 64.515625 \nQ 19.53125 74.21875 31.78125 74.21875 \nz\n\" id=\"DejaVuSans-48\"/>\n       </defs>\n       <use xlink:href=\"#DejaVuSans-8722\"/>\n       <use x=\"83.789062\" xlink:href=\"#DejaVuSans-53\"/>\n       <use x=\"147.412109\" xlink:href=\"#DejaVuSans-46\"/>\n       <use x=\"179.199219\" xlink:href=\"#DejaVuSans-48\"/>\n      </g>\n     </g>\n    </g>\n    <g id=\"xtick_3\">\n     <g id=\"line2d_3\">\n      <g>\n       <use style=\"stroke:#000000;stroke-width:0.8;\" x=\"164.607005\" xlink:href=\"#m4e2d52422e\" y=\"224.64\"/>\n      </g>\n     </g>\n     <g id=\"text_3\">\n      <!-- −2.5 -->\n      <g transform=\"translate(152.465599 239.238437)scale(0.1 -0.1)\">\n       <defs>\n        <path d=\"M 19.1875 8.296875 \nL 53.609375 8.296875 \nL 53.609375 0 \nL 7.328125 0 \nL 7.328125 8.296875 \nQ 12.9375 14.109375 22.625 23.890625 \nQ 32.328125 33.6875 34.8125 36.53125 \nQ 39.546875 41.84375 41.421875 45.53125 \nQ 43.3125 49.21875 43.3125 52.78125 \nQ 43.3125 58.59375 39.234375 62.25 \nQ 35.15625 65.921875 28.609375 65.921875 \nQ 23.96875 65.921875 18.8125 64.3125 \nQ 13.671875 62.703125 7.8125 59.421875 \nL 7.8125 69.390625 \nQ 13.765625 71.78125 18.9375 73 \nQ 24.125 74.21875 28.421875 74.21875 \nQ 39.75 74.21875 46.484375 68.546875 \nQ 53.21875 62.890625 53.21875 53.421875 \nQ 53.21875 48.921875 51.53125 44.890625 \nQ 49.859375 40.875 45.40625 35.40625 \nQ 44.1875 33.984375 37.640625 27.21875 \nQ 31.109375 20.453125 19.1875 8.296875 \nz\n\" id=\"DejaVuSans-50\"/>\n       </defs>\n       <use xlink:href=\"#DejaVuSans-8722\"/>\n       <use x=\"83.789062\" xlink:href=\"#DejaVuSans-50\"/>\n       <use x=\"147.412109\" xlink:href=\"#DejaVuSans-46\"/>\n       <use x=\"179.199219\" xlink:href=\"#DejaVuSans-53\"/>\n      </g>\n     </g>\n    </g>\n    <g id=\"xtick_4\">\n     <g id=\"line2d_4\">\n      <g>\n       <use style=\"stroke:#000000;stroke-width:0.8;\" x=\"209.780101\" xlink:href=\"#m4e2d52422e\" y=\"224.64\"/>\n      </g>\n     </g>\n     <g id=\"text_4\">\n      <!-- 0.0 -->\n      <g transform=\"translate(201.828539 239.238437)scale(0.1 -0.1)\">\n       <use xlink:href=\"#DejaVuSans-48\"/>\n       <use x=\"63.623047\" xlink:href=\"#DejaVuSans-46\"/>\n       <use x=\"95.410156\" xlink:href=\"#DejaVuSans-48\"/>\n      </g>\n     </g>\n    </g>\n    <g id=\"xtick_5\">\n     <g id=\"line2d_5\">\n      <g>\n       <use style=\"stroke:#000000;stroke-width:0.8;\" x=\"254.953198\" xlink:href=\"#m4e2d52422e\" y=\"224.64\"/>\n      </g>\n     </g>\n     <g id=\"text_5\">\n      <!-- 2.5 -->\n      <g transform=\"translate(247.001635 239.238437)scale(0.1 -0.1)\">\n       <use xlink:href=\"#DejaVuSans-50\"/>\n       <use x=\"63.623047\" xlink:href=\"#DejaVuSans-46\"/>\n       <use x=\"95.410156\" xlink:href=\"#DejaVuSans-53\"/>\n      </g>\n     </g>\n    </g>\n    <g id=\"xtick_6\">\n     <g id=\"line2d_6\">\n      <g>\n       <use style=\"stroke:#000000;stroke-width:0.8;\" x=\"300.126294\" xlink:href=\"#m4e2d52422e\" y=\"224.64\"/>\n      </g>\n     </g>\n     <g id=\"text_6\">\n      <!-- 5.0 -->\n      <g transform=\"translate(292.174732 239.238437)scale(0.1 -0.1)\">\n       <use xlink:href=\"#DejaVuSans-53\"/>\n       <use x=\"63.623047\" xlink:href=\"#DejaVuSans-46\"/>\n       <use x=\"95.410156\" xlink:href=\"#DejaVuSans-48\"/>\n      </g>\n     </g>\n    </g>\n    <g id=\"xtick_7\">\n     <g id=\"line2d_7\">\n      <g>\n       <use style=\"stroke:#000000;stroke-width:0.8;\" x=\"345.29939\" xlink:href=\"#m4e2d52422e\" y=\"224.64\"/>\n      </g>\n     </g>\n     <g id=\"text_7\">\n      <!-- 7.5 -->\n      <g transform=\"translate(337.347828 239.238437)scale(0.1 -0.1)\">\n       <use xlink:href=\"#DejaVuSans-55\"/>\n       <use x=\"63.623047\" xlink:href=\"#DejaVuSans-46\"/>\n       <use x=\"95.410156\" xlink:href=\"#DejaVuSans-53\"/>\n      </g>\n     </g>\n    </g>\n   </g>\n   <g id=\"matplotlib.axis_2\">\n    <g id=\"ytick_1\">\n     <g id=\"line2d_8\">\n      <defs>\n       <path d=\"M 0 0 \nL -3.5 0 \n\" id=\"m0fe536bc54\" style=\"stroke:#000000;stroke-width:0.8;\"/>\n      </defs>\n      <g>\n       <use style=\"stroke:#000000;stroke-width:0.8;\" x=\"44.845313\" xlink:href=\"#m0fe536bc54\" y=\"216.759958\"/>\n      </g>\n     </g>\n     <g id=\"text_8\">\n      <!-- −10.0 -->\n      <g transform=\"translate(7.2 220.559176)scale(0.1 -0.1)\">\n       <defs>\n        <path d=\"M 12.40625 8.296875 \nL 28.515625 8.296875 \nL 28.515625 63.921875 \nL 10.984375 60.40625 \nL 10.984375 69.390625 \nL 28.421875 72.90625 \nL 38.28125 72.90625 \nL 38.28125 8.296875 \nL 54.390625 8.296875 \nL 54.390625 0 \nL 12.40625 0 \nz\n\" id=\"DejaVuSans-49\"/>\n       </defs>\n       <use xlink:href=\"#DejaVuSans-8722\"/>\n       <use x=\"83.789062\" xlink:href=\"#DejaVuSans-49\"/>\n       <use x=\"147.412109\" xlink:href=\"#DejaVuSans-48\"/>\n       <use x=\"211.035156\" xlink:href=\"#DejaVuSans-46\"/>\n       <use x=\"242.822266\" xlink:href=\"#DejaVuSans-48\"/>\n      </g>\n     </g>\n    </g>\n    <g id=\"ytick_2\">\n     <g id=\"line2d_9\">\n      <g>\n       <use style=\"stroke:#000000;stroke-width:0.8;\" x=\"44.845313\" xlink:href=\"#m0fe536bc54\" y=\"188.130198\"/>\n      </g>\n     </g>\n     <g id=\"text_9\">\n      <!-- −7.5 -->\n      <g transform=\"translate(13.5625 191.929416)scale(0.1 -0.1)\">\n       <use xlink:href=\"#DejaVuSans-8722\"/>\n       <use x=\"83.789062\" xlink:href=\"#DejaVuSans-55\"/>\n       <use x=\"147.412109\" xlink:href=\"#DejaVuSans-46\"/>\n       <use x=\"179.199219\" xlink:href=\"#DejaVuSans-53\"/>\n      </g>\n     </g>\n    </g>\n    <g id=\"ytick_3\">\n     <g id=\"line2d_10\">\n      <g>\n       <use style=\"stroke:#000000;stroke-width:0.8;\" x=\"44.845313\" xlink:href=\"#m0fe536bc54\" y=\"159.500438\"/>\n      </g>\n     </g>\n     <g id=\"text_10\">\n      <!-- −5.0 -->\n      <g transform=\"translate(13.5625 163.299656)scale(0.1 -0.1)\">\n       <use xlink:href=\"#DejaVuSans-8722\"/>\n       <use x=\"83.789062\" xlink:href=\"#DejaVuSans-53\"/>\n       <use x=\"147.412109\" xlink:href=\"#DejaVuSans-46\"/>\n       <use x=\"179.199219\" xlink:href=\"#DejaVuSans-48\"/>\n      </g>\n     </g>\n    </g>\n    <g id=\"ytick_4\">\n     <g id=\"line2d_11\">\n      <g>\n       <use style=\"stroke:#000000;stroke-width:0.8;\" x=\"44.845313\" xlink:href=\"#m0fe536bc54\" y=\"130.870678\"/>\n      </g>\n     </g>\n     <g id=\"text_11\">\n      <!-- −2.5 -->\n      <g transform=\"translate(13.5625 134.669897)scale(0.1 -0.1)\">\n       <use xlink:href=\"#DejaVuSans-8722\"/>\n       <use x=\"83.789062\" xlink:href=\"#DejaVuSans-50\"/>\n       <use x=\"147.412109\" xlink:href=\"#DejaVuSans-46\"/>\n       <use x=\"179.199219\" xlink:href=\"#DejaVuSans-53\"/>\n      </g>\n     </g>\n    </g>\n    <g id=\"ytick_5\">\n     <g id=\"line2d_12\">\n      <g>\n       <use style=\"stroke:#000000;stroke-width:0.8;\" x=\"44.845313\" xlink:href=\"#m0fe536bc54\" y=\"102.240918\"/>\n      </g>\n     </g>\n     <g id=\"text_12\">\n      <!-- 0.0 -->\n      <g transform=\"translate(21.942188 106.040137)scale(0.1 -0.1)\">\n       <use xlink:href=\"#DejaVuSans-48\"/>\n       <use x=\"63.623047\" xlink:href=\"#DejaVuSans-46\"/>\n       <use x=\"95.410156\" xlink:href=\"#DejaVuSans-48\"/>\n      </g>\n     </g>\n    </g>\n    <g id=\"ytick_6\">\n     <g id=\"line2d_13\">\n      <g>\n       <use style=\"stroke:#000000;stroke-width:0.8;\" x=\"44.845313\" xlink:href=\"#m0fe536bc54\" y=\"73.611158\"/>\n      </g>\n     </g>\n     <g id=\"text_13\">\n      <!-- 2.5 -->\n      <g transform=\"translate(21.942188 77.410377)scale(0.1 -0.1)\">\n       <use xlink:href=\"#DejaVuSans-50\"/>\n       <use x=\"63.623047\" xlink:href=\"#DejaVuSans-46\"/>\n       <use x=\"95.410156\" xlink:href=\"#DejaVuSans-53\"/>\n      </g>\n     </g>\n    </g>\n    <g id=\"ytick_7\">\n     <g id=\"line2d_14\">\n      <g>\n       <use style=\"stroke:#000000;stroke-width:0.8;\" x=\"44.845313\" xlink:href=\"#m0fe536bc54\" y=\"44.981398\"/>\n      </g>\n     </g>\n     <g id=\"text_14\">\n      <!-- 5.0 -->\n      <g transform=\"translate(21.942188 48.780617)scale(0.1 -0.1)\">\n       <use xlink:href=\"#DejaVuSans-53\"/>\n       <use x=\"63.623047\" xlink:href=\"#DejaVuSans-46\"/>\n       <use x=\"95.410156\" xlink:href=\"#DejaVuSans-48\"/>\n      </g>\n     </g>\n    </g>\n    <g id=\"ytick_8\">\n     <g id=\"line2d_15\">\n      <g>\n       <use style=\"stroke:#000000;stroke-width:0.8;\" x=\"44.845313\" xlink:href=\"#m0fe536bc54\" y=\"16.351638\"/>\n      </g>\n     </g>\n     <g id=\"text_15\">\n      <!-- 7.5 -->\n      <g transform=\"translate(21.942188 20.150857)scale(0.1 -0.1)\">\n       <use xlink:href=\"#DejaVuSans-55\"/>\n       <use x=\"63.623047\" xlink:href=\"#DejaVuSans-46\"/>\n       <use x=\"95.410156\" xlink:href=\"#DejaVuSans-53\"/>\n      </g>\n     </g>\n    </g>\n   </g>\n   <g id=\"patch_3\">\n    <path d=\"M 44.845313 224.64 \nL 44.845313 7.2 \n\" style=\"fill:none;stroke:#000000;stroke-linecap:square;stroke-linejoin:miter;stroke-width:0.8;\"/>\n   </g>\n   <g id=\"patch_4\">\n    <path d=\"M 379.645313 224.64 \nL 379.645313 7.2 \n\" style=\"fill:none;stroke:#000000;stroke-linecap:square;stroke-linejoin:miter;stroke-width:0.8;\"/>\n   </g>\n   <g id=\"patch_5\">\n    <path d=\"M 44.845313 224.64 \nL 379.645313 224.64 \n\" style=\"fill:none;stroke:#000000;stroke-linecap:square;stroke-linejoin:miter;stroke-width:0.8;\"/>\n   </g>\n   <g id=\"patch_6\">\n    <path d=\"M 44.845313 7.2 \nL 379.645313 7.2 \n\" style=\"fill:none;stroke:#000000;stroke-linecap:square;stroke-linejoin:miter;stroke-width:0.8;\"/>\n   </g>\n  </g>\n </g>\n <defs>\n  <clipPath id=\"p1ae04ccb69\">\n   <rect height=\"217.44\" width=\"334.8\" x=\"44.845313\" y=\"7.2\"/>\n  </clipPath>\n </defs>\n</svg>\n",
      "image/png": "[encoded data removed]"
     },
     "metadata": {
      "needs_background": "light"
     }
    }
   ],
   "source": [
    "plt.scatter(landscape.landmarks[:, 0], landscape.landmarks[:, 1], s=150, alpha=0.8)"
   ]
  },
  {
   "cell_type": "code",
   "execution_count": 75,
   "metadata": {},
   "outputs": [],
   "source": [
    "from data_utils import Odometry\n",
    "\n",
    "N_pts = 100\n",
    "\n",
    "odometry = Odometry(landscape, observation_dim=3, max_time=10)\n",
    "odometry.generate(N_pts)"
   ]
  },
  {
   "cell_type": "code",
   "execution_count": 76,
   "metadata": {},
   "outputs": [
    {
     "output_type": "execute_result",
     "data": {
      "text/plain": [
       "<matplotlib.collections.PathCollection at 0x7f87900102e0>"
      ]
     },
     "metadata": {},
     "execution_count": 76
    },
    {
     "output_type": "display_data",
     "data": {
      "text/plain": "<Figure size 432x288 with 1 Axes>",
      "image/svg+xml": "<?xml version=\"1.0\" encoding=\"utf-8\" standalone=\"no\"?>\n<!DOCTYPE svg PUBLIC \"-//W3C//DTD SVG 1.1//EN\"\n  \"http://www.w3.org/Graphics/SVG/1.1/DTD/svg11.dtd\">\n<!-- Created with matplotlib (https://matplotlib.org/) -->\n<svg height=\"248.518125pt\" version=\"1.1\" viewBox=\"0 0 377.036619 248.518125\" width=\"377.036619pt\" xmlns=\"http://www.w3.org/2000/svg\" xmlns:xlink=\"http://www.w3.org/1999/xlink\">\n <metadata>\n  <rdf:RDF xmlns:cc=\"http://creativecommons.org/ns#\" xmlns:dc=\"http://purl.org/dc/elements/1.1/\" xmlns:rdf=\"http://www.w3.org/1999/02/22-rdf-syntax-ns#\">\n   <cc:Work>\n    <dc:type rdf:resource=\"http://purl.org/dc/dcmitype/StillImage\"/>\n    <dc:date>2021-03-23T16:07:54.334738</dc:date>\n    <dc:format>image/svg+xml</dc:format>\n    <dc:creator>\n     <cc:Agent>\n      <dc:title>Matplotlib v3.3.2, https://matplotlib.org/</dc:title>\n     </cc:Agent>\n    </dc:creator>\n   </cc:Work>\n  </rdf:RDF>\n </metadata>\n <defs>\n  <style type=\"text/css\">*{stroke-linecap:butt;stroke-linejoin:round;}</style>\n </defs>\n <g id=\"figure_1\">\n  <g id=\"patch_1\">\n   <path d=\"M 0 248.518125 \nL 377.036619 248.518125 \nL 377.036619 0 \nL 0 0 \nz\n\" style=\"fill:none;\"/>\n  </g>\n  <g id=\"axes_1\">\n   <g id=\"patch_2\">\n    <path d=\"M 28.942188 224.64 \nL 363.742188 224.64 \nL 363.742188 7.2 \nL 28.942188 7.2 \nz\n\" style=\"fill:#ffffff;\"/>\n   </g>\n   <g id=\"PathCollection_1\">\n    <defs>\n     <path d=\"M 0 3 \nC 0.795609 3 1.55874 2.683901 2.12132 2.12132 \nC 2.683901 1.55874 3 0.795609 3 0 \nC 3 -0.795609 2.683901 -1.55874 2.12132 -2.12132 \nC 1.55874 -2.683901 0.795609 -3 0 -3 \nC -0.795609 -3 -1.55874 -2.683901 -2.12132 -2.12132 \nC -2.683901 -1.55874 -3 -0.795609 -3 0 \nC -3 0.795609 -2.683901 1.55874 -2.12132 2.12132 \nC -1.55874 2.683901 -0.795609 3 0 3 \nz\n\" id=\"m0f004ce63c\" style=\"stroke:#1f77b4;\"/>\n    </defs>\n    <g clip-path=\"url(#p3a133f4329)\">\n     <use style=\"fill:#1f77b4;stroke:#1f77b4;\" x=\"44.160369\" xlink:href=\"#m0f004ce63c\" y=\"141.403691\"/>\n     <use style=\"fill:#1f77b4;stroke:#1f77b4;\" x=\"59.169111\" xlink:href=\"#m0f004ce63c\" y=\"137.957552\"/>\n     <use style=\"fill:#1f77b4;stroke:#1f77b4;\" x=\"70.735963\" xlink:href=\"#m0f004ce63c\" y=\"137.439567\"/>\n     <use style=\"fill:#1f77b4;stroke:#1f77b4;\" x=\"80.185435\" xlink:href=\"#m0f004ce63c\" y=\"138.626835\"/>\n     <use style=\"fill:#1f77b4;stroke:#1f77b4;\" x=\"102.368233\" xlink:href=\"#m0f004ce63c\" y=\"136.160106\"/>\n     <use style=\"fill:#1f77b4;stroke:#1f77b4;\" x=\"118.774361\" xlink:href=\"#m0f004ce63c\" y=\"126.769788\"/>\n     <use style=\"fill:#1f77b4;stroke:#1f77b4;\" x=\"131.423582\" xlink:href=\"#m0f004ce63c\" y=\"113.884397\"/>\n     <use style=\"fill:#1f77b4;stroke:#1f77b4;\" x=\"144.679866\" xlink:href=\"#m0f004ce63c\" y=\"92.64582\"/>\n     <use style=\"fill:#1f77b4;stroke:#1f77b4;\" x=\"151.612957\" xlink:href=\"#m0f004ce63c\" y=\"62.685888\"/>\n     <use style=\"fill:#1f77b4;stroke:#1f77b4;\" x=\"144.281094\" xlink:href=\"#m0f004ce63c\" y=\"28.959831\"/>\n     <use style=\"fill:#1f77b4;stroke:#1f77b4;\" x=\"121.975699\" xlink:href=\"#m0f004ce63c\" y=\"17.083636\"/>\n     <use style=\"fill:#1f77b4;stroke:#1f77b4;\" x=\"103.258692\" xlink:href=\"#m0f004ce63c\" y=\"30.834006\"/>\n     <use style=\"fill:#1f77b4;stroke:#1f77b4;\" x=\"94.574832\" xlink:href=\"#m0f004ce63c\" y=\"52.774784\"/>\n     <use style=\"fill:#1f77b4;stroke:#1f77b4;\" x=\"88.508281\" xlink:href=\"#m0f004ce63c\" y=\"98.148703\"/>\n     <use style=\"fill:#1f77b4;stroke:#1f77b4;\" x=\"93.971144\" xlink:href=\"#m0f004ce63c\" y=\"137.641214\"/>\n     <use style=\"fill:#1f77b4;stroke:#1f77b4;\" x=\"109.926625\" xlink:href=\"#m0f004ce63c\" y=\"166.424402\"/>\n     <use style=\"fill:#1f77b4;stroke:#1f77b4;\" x=\"131.844157\" xlink:href=\"#m0f004ce63c\" y=\"189.129983\"/>\n     <use style=\"fill:#1f77b4;stroke:#1f77b4;\" x=\"158.498441\" xlink:href=\"#m0f004ce63c\" y=\"209.398016\"/>\n     <use style=\"fill:#1f77b4;stroke:#1f77b4;\" x=\"177.305423\" xlink:href=\"#m0f004ce63c\" y=\"214.756364\"/>\n     <use style=\"fill:#1f77b4;stroke:#1f77b4;\" x=\"191.642719\" xlink:href=\"#m0f004ce63c\" y=\"209.076918\"/>\n     <use style=\"fill:#1f77b4;stroke:#1f77b4;\" x=\"206.715016\" xlink:href=\"#m0f004ce63c\" y=\"190.352605\"/>\n     <use style=\"fill:#1f77b4;stroke:#1f77b4;\" x=\"221.882479\" xlink:href=\"#m0f004ce63c\" y=\"154.745944\"/>\n     <use style=\"fill:#1f77b4;stroke:#1f77b4;\" x=\"227.964009\" xlink:href=\"#m0f004ce63c\" y=\"103.907505\"/>\n     <use style=\"fill:#1f77b4;stroke:#1f77b4;\" x=\"219.527915\" xlink:href=\"#m0f004ce63c\" y=\"60.109326\"/>\n     <use style=\"fill:#1f77b4;stroke:#1f77b4;\" x=\"202.750776\" xlink:href=\"#m0f004ce63c\" y=\"46.812228\"/>\n     <use style=\"fill:#1f77b4;stroke:#1f77b4;\" x=\"187.412396\" xlink:href=\"#m0f004ce63c\" y=\"57.38789\"/>\n     <use style=\"fill:#1f77b4;stroke:#1f77b4;\" x=\"177.211447\" xlink:href=\"#m0f004ce63c\" y=\"94.950123\"/>\n     <use style=\"fill:#1f77b4;stroke:#1f77b4;\" x=\"178.107405\" xlink:href=\"#m0f004ce63c\" y=\"134.237672\"/>\n     <use style=\"fill:#1f77b4;stroke:#1f77b4;\" x=\"184.69178\" xlink:href=\"#m0f004ce63c\" y=\"151.065267\"/>\n     <use style=\"fill:#1f77b4;stroke:#1f77b4;\" x=\"217.34023\" xlink:href=\"#m0f004ce63c\" y=\"148.607829\"/>\n     <use style=\"fill:#1f77b4;stroke:#1f77b4;\" x=\"237.766064\" xlink:href=\"#m0f004ce63c\" y=\"111.503985\"/>\n     <use style=\"fill:#1f77b4;stroke:#1f77b4;\" x=\"241.208768\" xlink:href=\"#m0f004ce63c\" y=\"85.191136\"/>\n     <use style=\"fill:#1f77b4;stroke:#1f77b4;\" x=\"234.194409\" xlink:href=\"#m0f004ce63c\" y=\"52.912095\"/>\n     <use style=\"fill:#1f77b4;stroke:#1f77b4;\" x=\"216.594526\" xlink:href=\"#m0f004ce63c\" y=\"34.09908\"/>\n     <use style=\"fill:#1f77b4;stroke:#1f77b4;\" x=\"203.603725\" xlink:href=\"#m0f004ce63c\" y=\"36.993432\"/>\n     <use style=\"fill:#1f77b4;stroke:#1f77b4;\" x=\"197.660448\" xlink:href=\"#m0f004ce63c\" y=\"48.222288\"/>\n     <use style=\"fill:#1f77b4;stroke:#1f77b4;\" x=\"192.698283\" xlink:href=\"#m0f004ce63c\" y=\"69.810347\"/>\n     <use style=\"fill:#1f77b4;stroke:#1f77b4;\" x=\"195.264445\" xlink:href=\"#m0f004ce63c\" y=\"103.405042\"/>\n     <use style=\"fill:#1f77b4;stroke:#1f77b4;\" x=\"200.861343\" xlink:href=\"#m0f004ce63c\" y=\"123.738941\"/>\n     <use style=\"fill:#1f77b4;stroke:#1f77b4;\" x=\"294.178098\" xlink:href=\"#m0f004ce63c\" y=\"101.029052\"/>\n     <use style=\"fill:#1f77b4;stroke:#1f77b4;\" x=\"293.447958\" xlink:href=\"#m0f004ce63c\" y=\"81.770399\"/>\n     <use style=\"fill:#1f77b4;stroke:#1f77b4;\" x=\"285.919788\" xlink:href=\"#m0f004ce63c\" y=\"65.639123\"/>\n     <use style=\"fill:#1f77b4;stroke:#1f77b4;\" x=\"273.26111\" xlink:href=\"#m0f004ce63c\" y=\"58.687949\"/>\n     <use style=\"fill:#1f77b4;stroke:#1f77b4;\" x=\"260.225918\" xlink:href=\"#m0f004ce63c\" y=\"62.29309\"/>\n     <use style=\"fill:#1f77b4;stroke:#1f77b4;\" x=\"253.146071\" xlink:href=\"#m0f004ce63c\" y=\"75.360869\"/>\n     <use style=\"fill:#1f77b4;stroke:#1f77b4;\" x=\"250.053853\" xlink:href=\"#m0f004ce63c\" y=\"89.048555\"/>\n     <use style=\"fill:#1f77b4;stroke:#1f77b4;\" x=\"251.047453\" xlink:href=\"#m0f004ce63c\" y=\"102.334558\"/>\n     <use style=\"fill:#1f77b4;stroke:#1f77b4;\" x=\"258.113622\" xlink:href=\"#m0f004ce63c\" y=\"119.001443\"/>\n     <use style=\"fill:#1f77b4;stroke:#1f77b4;\" x=\"276.571951\" xlink:href=\"#m0f004ce63c\" y=\"118.545039\"/>\n     <use style=\"fill:#1f77b4;stroke:#1f77b4;\" x=\"276.723591\" xlink:href=\"#m0f004ce63c\" y=\"120.484663\"/>\n     <use style=\"fill:#1f77b4;stroke:#1f77b4;\" x=\"277.582233\" xlink:href=\"#m0f004ce63c\" y=\"123.817679\"/>\n     <use style=\"fill:#1f77b4;stroke:#1f77b4;\" x=\"282.943272\" xlink:href=\"#m0f004ce63c\" y=\"131.0892\"/>\n     <use style=\"fill:#1f77b4;stroke:#1f77b4;\" x=\"286.393986\" xlink:href=\"#m0f004ce63c\" y=\"132.630597\"/>\n     <use style=\"fill:#1f77b4;stroke:#1f77b4;\" x=\"294.466816\" xlink:href=\"#m0f004ce63c\" y=\"127.886424\"/>\n     <use style=\"fill:#1f77b4;stroke:#1f77b4;\" x=\"296.320612\" xlink:href=\"#m0f004ce63c\" y=\"123.96279\"/>\n     <use style=\"fill:#1f77b4;stroke:#1f77b4;\" x=\"297.411212\" xlink:href=\"#m0f004ce63c\" y=\"118.969513\"/>\n     <use style=\"fill:#1f77b4;stroke:#1f77b4;\" x=\"297.623557\" xlink:href=\"#m0f004ce63c\" y=\"122.50329\"/>\n     <use style=\"fill:#1f77b4;stroke:#1f77b4;\" x=\"324.150984\" xlink:href=\"#m0f004ce63c\" y=\"131.256946\"/>\n     <use style=\"fill:#1f77b4;stroke:#1f77b4;\" x=\"324.385811\" xlink:href=\"#m0f004ce63c\" y=\"128.751349\"/>\n     <use style=\"fill:#1f77b4;stroke:#1f77b4;\" x=\"323.951359\" xlink:href=\"#m0f004ce63c\" y=\"122.99832\"/>\n     <use style=\"fill:#1f77b4;stroke:#1f77b4;\" x=\"323.819164\" xlink:href=\"#m0f004ce63c\" y=\"122.07245\"/>\n     <use style=\"fill:#1f77b4;stroke:#1f77b4;\" x=\"323.892158\" xlink:href=\"#m0f004ce63c\" y=\"122.298076\"/>\n     <use style=\"fill:#1f77b4;stroke:#1f77b4;\" x=\"325.065489\" xlink:href=\"#m0f004ce63c\" y=\"124.267427\"/>\n     <use style=\"fill:#1f77b4;stroke:#1f77b4;\" x=\"327.378064\" xlink:href=\"#m0f004ce63c\" y=\"126.784066\"/>\n     <use style=\"fill:#1f77b4;stroke:#1f77b4;\" x=\"329.154779\" xlink:href=\"#m0f004ce63c\" y=\"128.281559\"/>\n     <use style=\"fill:#1f77b4;stroke:#1f77b4;\" x=\"331.332333\" xlink:href=\"#m0f004ce63c\" y=\"130.950068\"/>\n     <use style=\"fill:#1f77b4;stroke:#1f77b4;\" x=\"333.19571\" xlink:href=\"#m0f004ce63c\" y=\"133.24119\"/>\n     <use style=\"fill:#1f77b4;stroke:#1f77b4;\" x=\"332.791953\" xlink:href=\"#m0f004ce63c\" y=\"132.776744\"/>\n     <use style=\"fill:#1f77b4;stroke:#1f77b4;\" x=\"332.004506\" xlink:href=\"#m0f004ce63c\" y=\"132.4159\"/>\n     <use style=\"fill:#1f77b4;stroke:#1f77b4;\" x=\"333.043552\" xlink:href=\"#m0f004ce63c\" y=\"132.458563\"/>\n     <use style=\"fill:#1f77b4;stroke:#1f77b4;\" x=\"333.205953\" xlink:href=\"#m0f004ce63c\" y=\"132.376676\"/>\n     <use style=\"fill:#1f77b4;stroke:#1f77b4;\" x=\"335.567971\" xlink:href=\"#m0f004ce63c\" y=\"129.726228\"/>\n     <use style=\"fill:#1f77b4;stroke:#1f77b4;\" x=\"336.457479\" xlink:href=\"#m0f004ce63c\" y=\"126.457027\"/>\n     <use style=\"fill:#1f77b4;stroke:#1f77b4;\" x=\"336.375267\" xlink:href=\"#m0f004ce63c\" y=\"123.164093\"/>\n     <use style=\"fill:#1f77b4;stroke:#1f77b4;\" x=\"329.055441\" xlink:href=\"#m0f004ce63c\" y=\"126.379276\"/>\n     <use style=\"fill:#1f77b4;stroke:#1f77b4;\" x=\"328.263842\" xlink:href=\"#m0f004ce63c\" y=\"128.088377\"/>\n     <use style=\"fill:#1f77b4;stroke:#1f77b4;\" x=\"328.850784\" xlink:href=\"#m0f004ce63c\" y=\"126.039229\"/>\n     <use style=\"fill:#1f77b4;stroke:#1f77b4;\" x=\"328.460414\" xlink:href=\"#m0f004ce63c\" y=\"126.830677\"/>\n     <use style=\"fill:#1f77b4;stroke:#1f77b4;\" x=\"340.106983\" xlink:href=\"#m0f004ce63c\" y=\"133.167496\"/>\n     <use style=\"fill:#1f77b4;stroke:#1f77b4;\" x=\"340.249941\" xlink:href=\"#m0f004ce63c\" y=\"132.710854\"/>\n     <use style=\"fill:#1f77b4;stroke:#1f77b4;\" x=\"337.126206\" xlink:href=\"#m0f004ce63c\" y=\"137.20208\"/>\n     <use style=\"fill:#1f77b4;stroke:#1f77b4;\" x=\"335.699006\" xlink:href=\"#m0f004ce63c\" y=\"138.969407\"/>\n     <use style=\"fill:#1f77b4;stroke:#1f77b4;\" x=\"332.537482\" xlink:href=\"#m0f004ce63c\" y=\"140.801788\"/>\n     <use style=\"fill:#1f77b4;stroke:#1f77b4;\" x=\"328.580778\" xlink:href=\"#m0f004ce63c\" y=\"138.49862\"/>\n     <use style=\"fill:#1f77b4;stroke:#1f77b4;\" x=\"325.948404\" xlink:href=\"#m0f004ce63c\" y=\"133.794303\"/>\n     <use style=\"fill:#1f77b4;stroke:#1f77b4;\" x=\"324.909342\" xlink:href=\"#m0f004ce63c\" y=\"127.552123\"/>\n     <use style=\"fill:#1f77b4;stroke:#1f77b4;\" x=\"325.603221\" xlink:href=\"#m0f004ce63c\" y=\"124.097172\"/>\n     <use style=\"fill:#1f77b4;stroke:#1f77b4;\" x=\"348.524006\" xlink:href=\"#m0f004ce63c\" y=\"134.532665\"/>\n     <use style=\"fill:#1f77b4;stroke:#1f77b4;\" x=\"347.478974\" xlink:href=\"#m0f004ce63c\" y=\"137.300955\"/>\n     <use style=\"fill:#1f77b4;stroke:#1f77b4;\" x=\"346.597225\" xlink:href=\"#m0f004ce63c\" y=\"138.491913\"/>\n     <use style=\"fill:#1f77b4;stroke:#1f77b4;\" x=\"344.461117\" xlink:href=\"#m0f004ce63c\" y=\"139.797857\"/>\n     <use style=\"fill:#1f77b4;stroke:#1f77b4;\" x=\"341.721222\" xlink:href=\"#m0f004ce63c\" y=\"140.040072\"/>\n     <use style=\"fill:#1f77b4;stroke:#1f77b4;\" x=\"339.05236\" xlink:href=\"#m0f004ce63c\" y=\"137.035393\"/>\n     <use style=\"fill:#1f77b4;stroke:#1f77b4;\" x=\"337.94045\" xlink:href=\"#m0f004ce63c\" y=\"134.461606\"/>\n     <use style=\"fill:#1f77b4;stroke:#1f77b4;\" x=\"337.389629\" xlink:href=\"#m0f004ce63c\" y=\"131.108622\"/>\n     <use style=\"fill:#1f77b4;stroke:#1f77b4;\" x=\"337.627916\" xlink:href=\"#m0f004ce63c\" y=\"128.840937\"/>\n     <use style=\"fill:#1f77b4;stroke:#1f77b4;\" x=\"339.21363\" xlink:href=\"#m0f004ce63c\" y=\"127.162562\"/>\n     <use style=\"fill:#1f77b4;stroke:#1f77b4;\" x=\"339.652565\" xlink:href=\"#m0f004ce63c\" y=\"126.509146\"/>\n     <use style=\"fill:#1f77b4;stroke:#1f77b4;\" x=\"339.388085\" xlink:href=\"#m0f004ce63c\" y=\"126.219433\"/>\n     <use style=\"fill:#1f77b4;stroke:#1f77b4;\" x=\"339.805128\" xlink:href=\"#m0f004ce63c\" y=\"134.459181\"/>\n     <use style=\"fill:#1f77b4;stroke:#1f77b4;\" x=\"339.99044\" xlink:href=\"#m0f004ce63c\" y=\"127.405104\"/>\n    </g>\n   </g>\n   <g id=\"matplotlib.axis_1\">\n    <g id=\"xtick_1\">\n     <g id=\"line2d_1\">\n      <defs>\n       <path d=\"M 0 0 \nL 0 3.5 \n\" id=\"m1ee299883a\" style=\"stroke:#000000;stroke-width:0.8;\"/>\n      </defs>\n      <g>\n       <use style=\"stroke:#000000;stroke-width:0.8;\" x=\"60.364383\" xlink:href=\"#m1ee299883a\" y=\"224.64\"/>\n      </g>\n     </g>\n     <g id=\"text_1\">\n      <!-- 2.5 -->\n      <g transform=\"translate(52.412821 239.238437)scale(0.1 -0.1)\">\n       <defs>\n        <path d=\"M 19.1875 8.296875 \nL 53.609375 8.296875 \nL 53.609375 0 \nL 7.328125 0 \nL 7.328125 8.296875 \nQ 12.9375 14.109375 22.625 23.890625 \nQ 32.328125 33.6875 34.8125 36.53125 \nQ 39.546875 41.84375 41.421875 45.53125 \nQ 43.3125 49.21875 43.3125 52.78125 \nQ 43.3125 58.59375 39.234375 62.25 \nQ 35.15625 65.921875 28.609375 65.921875 \nQ 23.96875 65.921875 18.8125 64.3125 \nQ 13.671875 62.703125 7.8125 59.421875 \nL 7.8125 69.390625 \nQ 13.765625 71.78125 18.9375 73 \nQ 24.125 74.21875 28.421875 74.21875 \nQ 39.75 74.21875 46.484375 68.546875 \nQ 53.21875 62.890625 53.21875 53.421875 \nQ 53.21875 48.921875 51.53125 44.890625 \nQ 49.859375 40.875 45.40625 35.40625 \nQ 44.1875 33.984375 37.640625 27.21875 \nQ 31.109375 20.453125 19.1875 8.296875 \nz\n\" id=\"DejaVuSans-50\"/>\n        <path d=\"M 10.6875 12.40625 \nL 21 12.40625 \nL 21 0 \nL 10.6875 0 \nz\n\" id=\"DejaVuSans-46\"/>\n        <path d=\"M 10.796875 72.90625 \nL 49.515625 72.90625 \nL 49.515625 64.59375 \nL 19.828125 64.59375 \nL 19.828125 46.734375 \nQ 21.96875 47.46875 24.109375 47.828125 \nQ 26.265625 48.1875 28.421875 48.1875 \nQ 40.625 48.1875 47.75 41.5 \nQ 54.890625 34.8125 54.890625 23.390625 \nQ 54.890625 11.625 47.5625 5.09375 \nQ 40.234375 -1.421875 26.90625 -1.421875 \nQ 22.3125 -1.421875 17.546875 -0.640625 \nQ 12.796875 0.140625 7.71875 1.703125 \nL 7.71875 11.625 \nQ 12.109375 9.234375 16.796875 8.0625 \nQ 21.484375 6.890625 26.703125 6.890625 \nQ 35.15625 6.890625 40.078125 11.328125 \nQ 45.015625 15.765625 45.015625 23.390625 \nQ 45.015625 31 40.078125 35.4375 \nQ 35.15625 39.890625 26.703125 39.890625 \nQ 22.75 39.890625 18.8125 39.015625 \nQ 14.890625 38.140625 10.796875 36.28125 \nz\n\" id=\"DejaVuSans-53\"/>\n       </defs>\n       <use xlink:href=\"#DejaVuSans-50\"/>\n       <use x=\"63.623047\" xlink:href=\"#DejaVuSans-46\"/>\n       <use x=\"95.410156\" xlink:href=\"#DejaVuSans-53\"/>\n      </g>\n     </g>\n    </g>\n    <g id=\"xtick_2\">\n     <g id=\"line2d_2\">\n      <g>\n       <use style=\"stroke:#000000;stroke-width:0.8;\" x=\"102.984301\" xlink:href=\"#m1ee299883a\" y=\"224.64\"/>\n      </g>\n     </g>\n     <g id=\"text_2\">\n      <!-- 5.0 -->\n      <g transform=\"translate(95.032738 239.238437)scale(0.1 -0.1)\">\n       <defs>\n        <path d=\"M 31.78125 66.40625 \nQ 24.171875 66.40625 20.328125 58.90625 \nQ 16.5 51.421875 16.5 36.375 \nQ 16.5 21.390625 20.328125 13.890625 \nQ 24.171875 6.390625 31.78125 6.390625 \nQ 39.453125 6.390625 43.28125 13.890625 \nQ 47.125 21.390625 47.125 36.375 \nQ 47.125 51.421875 43.28125 58.90625 \nQ 39.453125 66.40625 31.78125 66.40625 \nz\nM 31.78125 74.21875 \nQ 44.046875 74.21875 50.515625 64.515625 \nQ 56.984375 54.828125 56.984375 36.375 \nQ 56.984375 17.96875 50.515625 8.265625 \nQ 44.046875 -1.421875 31.78125 -1.421875 \nQ 19.53125 -1.421875 13.0625 8.265625 \nQ 6.59375 17.96875 6.59375 36.375 \nQ 6.59375 54.828125 13.0625 64.515625 \nQ 19.53125 74.21875 31.78125 74.21875 \nz\n\" id=\"DejaVuSans-48\"/>\n       </defs>\n       <use xlink:href=\"#DejaVuSans-53\"/>\n       <use x=\"63.623047\" xlink:href=\"#DejaVuSans-46\"/>\n       <use x=\"95.410156\" xlink:href=\"#DejaVuSans-48\"/>\n      </g>\n     </g>\n    </g>\n    <g id=\"xtick_3\">\n     <g id=\"line2d_3\">\n      <g>\n       <use style=\"stroke:#000000;stroke-width:0.8;\" x=\"145.604218\" xlink:href=\"#m1ee299883a\" y=\"224.64\"/>\n      </g>\n     </g>\n     <g id=\"text_3\">\n      <!-- 7.5 -->\n      <g transform=\"translate(137.652656 239.238437)scale(0.1 -0.1)\">\n       <defs>\n        <path d=\"M 8.203125 72.90625 \nL 55.078125 72.90625 \nL 55.078125 68.703125 \nL 28.609375 0 \nL 18.3125 0 \nL 43.21875 64.59375 \nL 8.203125 64.59375 \nz\n\" id=\"DejaVuSans-55\"/>\n       </defs>\n       <use xlink:href=\"#DejaVuSans-55\"/>\n       <use x=\"63.623047\" xlink:href=\"#DejaVuSans-46\"/>\n       <use x=\"95.410156\" xlink:href=\"#DejaVuSans-53\"/>\n      </g>\n     </g>\n    </g>\n    <g id=\"xtick_4\">\n     <g id=\"line2d_4\">\n      <g>\n       <use style=\"stroke:#000000;stroke-width:0.8;\" x=\"188.224136\" xlink:href=\"#m1ee299883a\" y=\"224.64\"/>\n      </g>\n     </g>\n     <g id=\"text_4\">\n      <!-- 10.0 -->\n      <g transform=\"translate(177.091323 239.238437)scale(0.1 -0.1)\">\n       <defs>\n        <path d=\"M 12.40625 8.296875 \nL 28.515625 8.296875 \nL 28.515625 63.921875 \nL 10.984375 60.40625 \nL 10.984375 69.390625 \nL 28.421875 72.90625 \nL 38.28125 72.90625 \nL 38.28125 8.296875 \nL 54.390625 8.296875 \nL 54.390625 0 \nL 12.40625 0 \nz\n\" id=\"DejaVuSans-49\"/>\n       </defs>\n       <use xlink:href=\"#DejaVuSans-49\"/>\n       <use x=\"63.623047\" xlink:href=\"#DejaVuSans-48\"/>\n       <use x=\"127.246094\" xlink:href=\"#DejaVuSans-46\"/>\n       <use x=\"159.033203\" xlink:href=\"#DejaVuSans-48\"/>\n      </g>\n     </g>\n    </g>\n    <g id=\"xtick_5\">\n     <g id=\"line2d_5\">\n      <g>\n       <use style=\"stroke:#000000;stroke-width:0.8;\" x=\"230.844053\" xlink:href=\"#m1ee299883a\" y=\"224.64\"/>\n      </g>\n     </g>\n     <g id=\"text_5\">\n      <!-- 12.5 -->\n      <g transform=\"translate(219.711241 239.238437)scale(0.1 -0.1)\">\n       <use xlink:href=\"#DejaVuSans-49\"/>\n       <use x=\"63.623047\" xlink:href=\"#DejaVuSans-50\"/>\n       <use x=\"127.246094\" xlink:href=\"#DejaVuSans-46\"/>\n       <use x=\"159.033203\" xlink:href=\"#DejaVuSans-53\"/>\n      </g>\n     </g>\n    </g>\n    <g id=\"xtick_6\">\n     <g id=\"line2d_6\">\n      <g>\n       <use style=\"stroke:#000000;stroke-width:0.8;\" x=\"273.463971\" xlink:href=\"#m1ee299883a\" y=\"224.64\"/>\n      </g>\n     </g>\n     <g id=\"text_6\">\n      <!-- 15.0 -->\n      <g transform=\"translate(262.331159 239.238437)scale(0.1 -0.1)\">\n       <use xlink:href=\"#DejaVuSans-49\"/>\n       <use x=\"63.623047\" xlink:href=\"#DejaVuSans-53\"/>\n       <use x=\"127.246094\" xlink:href=\"#DejaVuSans-46\"/>\n       <use x=\"159.033203\" xlink:href=\"#DejaVuSans-48\"/>\n      </g>\n     </g>\n    </g>\n    <g id=\"xtick_7\">\n     <g id=\"line2d_7\">\n      <g>\n       <use style=\"stroke:#000000;stroke-width:0.8;\" x=\"316.083889\" xlink:href=\"#m1ee299883a\" y=\"224.64\"/>\n      </g>\n     </g>\n     <g id=\"text_7\">\n      <!-- 17.5 -->\n      <g transform=\"translate(304.951076 239.238437)scale(0.1 -0.1)\">\n       <use xlink:href=\"#DejaVuSans-49\"/>\n       <use x=\"63.623047\" xlink:href=\"#DejaVuSans-55\"/>\n       <use x=\"127.246094\" xlink:href=\"#DejaVuSans-46\"/>\n       <use x=\"159.033203\" xlink:href=\"#DejaVuSans-53\"/>\n      </g>\n     </g>\n    </g>\n    <g id=\"xtick_8\">\n     <g id=\"line2d_8\">\n      <g>\n       <use style=\"stroke:#000000;stroke-width:0.8;\" x=\"358.703806\" xlink:href=\"#m1ee299883a\" y=\"224.64\"/>\n      </g>\n     </g>\n     <g id=\"text_8\">\n      <!-- 20.0 -->\n      <g transform=\"translate(347.570994 239.238437)scale(0.1 -0.1)\">\n       <use xlink:href=\"#DejaVuSans-50\"/>\n       <use x=\"63.623047\" xlink:href=\"#DejaVuSans-48\"/>\n       <use x=\"127.246094\" xlink:href=\"#DejaVuSans-46\"/>\n       <use x=\"159.033203\" xlink:href=\"#DejaVuSans-48\"/>\n      </g>\n     </g>\n    </g>\n   </g>\n   <g id=\"matplotlib.axis_2\">\n    <g id=\"ytick_1\">\n     <g id=\"line2d_9\">\n      <defs>\n       <path d=\"M 0 0 \nL -3.5 0 \n\" id=\"mcff3969b7f\" style=\"stroke:#000000;stroke-width:0.8;\"/>\n      </defs>\n      <g>\n       <use style=\"stroke:#000000;stroke-width:0.8;\" x=\"28.942188\" xlink:href=\"#mcff3969b7f\" y=\"219.008764\"/>\n      </g>\n     </g>\n     <g id=\"text_9\">\n      <!-- −2 -->\n      <g transform=\"translate(7.2 222.807983)scale(0.1 -0.1)\">\n       <defs>\n        <path d=\"M 10.59375 35.5 \nL 73.1875 35.5 \nL 73.1875 27.203125 \nL 10.59375 27.203125 \nz\n\" id=\"DejaVuSans-8722\"/>\n       </defs>\n       <use xlink:href=\"#DejaVuSans-8722\"/>\n       <use x=\"83.789062\" xlink:href=\"#DejaVuSans-50\"/>\n      </g>\n     </g>\n    </g>\n    <g id=\"ytick_2\">\n     <g id=\"line2d_10\">\n      <g>\n       <use style=\"stroke:#000000;stroke-width:0.8;\" x=\"28.942188\" xlink:href=\"#mcff3969b7f\" y=\"186.34528\"/>\n      </g>\n     </g>\n     <g id=\"text_10\">\n      <!-- −1 -->\n      <g transform=\"translate(7.2 190.144498)scale(0.1 -0.1)\">\n       <use xlink:href=\"#DejaVuSans-8722\"/>\n       <use x=\"83.789062\" xlink:href=\"#DejaVuSans-49\"/>\n      </g>\n     </g>\n    </g>\n    <g id=\"ytick_3\">\n     <g id=\"line2d_11\">\n      <g>\n       <use style=\"stroke:#000000;stroke-width:0.8;\" x=\"28.942188\" xlink:href=\"#mcff3969b7f\" y=\"153.681795\"/>\n      </g>\n     </g>\n     <g id=\"text_11\">\n      <!-- 0 -->\n      <g transform=\"translate(15.579688 157.481014)scale(0.1 -0.1)\">\n       <use xlink:href=\"#DejaVuSans-48\"/>\n      </g>\n     </g>\n    </g>\n    <g id=\"ytick_4\">\n     <g id=\"line2d_12\">\n      <g>\n       <use style=\"stroke:#000000;stroke-width:0.8;\" x=\"28.942188\" xlink:href=\"#mcff3969b7f\" y=\"121.01831\"/>\n      </g>\n     </g>\n     <g id=\"text_12\">\n      <!-- 1 -->\n      <g transform=\"translate(15.579688 124.817529)scale(0.1 -0.1)\">\n       <use xlink:href=\"#DejaVuSans-49\"/>\n      </g>\n     </g>\n    </g>\n    <g id=\"ytick_5\">\n     <g id=\"line2d_13\">\n      <g>\n       <use style=\"stroke:#000000;stroke-width:0.8;\" x=\"28.942188\" xlink:href=\"#mcff3969b7f\" y=\"88.354825\"/>\n      </g>\n     </g>\n     <g id=\"text_13\">\n      <!-- 2 -->\n      <g transform=\"translate(15.579688 92.154044)scale(0.1 -0.1)\">\n       <use xlink:href=\"#DejaVuSans-50\"/>\n      </g>\n     </g>\n    </g>\n    <g id=\"ytick_6\">\n     <g id=\"line2d_14\">\n      <g>\n       <use style=\"stroke:#000000;stroke-width:0.8;\" x=\"28.942188\" xlink:href=\"#mcff3969b7f\" y=\"55.691341\"/>\n      </g>\n     </g>\n     <g id=\"text_14\">\n      <!-- 3 -->\n      <g transform=\"translate(15.579688 59.490559)scale(0.1 -0.1)\">\n       <defs>\n        <path d=\"M 40.578125 39.3125 \nQ 47.65625 37.796875 51.625 33 \nQ 55.609375 28.21875 55.609375 21.1875 \nQ 55.609375 10.40625 48.1875 4.484375 \nQ 40.765625 -1.421875 27.09375 -1.421875 \nQ 22.515625 -1.421875 17.65625 -0.515625 \nQ 12.796875 0.390625 7.625 2.203125 \nL 7.625 11.71875 \nQ 11.71875 9.328125 16.59375 8.109375 \nQ 21.484375 6.890625 26.8125 6.890625 \nQ 36.078125 6.890625 40.9375 10.546875 \nQ 45.796875 14.203125 45.796875 21.1875 \nQ 45.796875 27.640625 41.28125 31.265625 \nQ 36.765625 34.90625 28.71875 34.90625 \nL 20.21875 34.90625 \nL 20.21875 43.015625 \nL 29.109375 43.015625 \nQ 36.375 43.015625 40.234375 45.921875 \nQ 44.09375 48.828125 44.09375 54.296875 \nQ 44.09375 59.90625 40.109375 62.90625 \nQ 36.140625 65.921875 28.71875 65.921875 \nQ 24.65625 65.921875 20.015625 65.03125 \nQ 15.375 64.15625 9.8125 62.3125 \nL 9.8125 71.09375 \nQ 15.4375 72.65625 20.34375 73.4375 \nQ 25.25 74.21875 29.59375 74.21875 \nQ 40.828125 74.21875 47.359375 69.109375 \nQ 53.90625 64.015625 53.90625 55.328125 \nQ 53.90625 49.265625 50.4375 45.09375 \nQ 46.96875 40.921875 40.578125 39.3125 \nz\n\" id=\"DejaVuSans-51\"/>\n       </defs>\n       <use xlink:href=\"#DejaVuSans-51\"/>\n      </g>\n     </g>\n    </g>\n    <g id=\"ytick_7\">\n     <g id=\"line2d_15\">\n      <g>\n       <use style=\"stroke:#000000;stroke-width:0.8;\" x=\"28.942188\" xlink:href=\"#mcff3969b7f\" y=\"23.027856\"/>\n      </g>\n     </g>\n     <g id=\"text_15\">\n      <!-- 4 -->\n      <g transform=\"translate(15.579688 26.827075)scale(0.1 -0.1)\">\n       <defs>\n        <path d=\"M 37.796875 64.3125 \nL 12.890625 25.390625 \nL 37.796875 25.390625 \nz\nM 35.203125 72.90625 \nL 47.609375 72.90625 \nL 47.609375 25.390625 \nL 58.015625 25.390625 \nL 58.015625 17.1875 \nL 47.609375 17.1875 \nL 47.609375 0 \nL 37.796875 0 \nL 37.796875 17.1875 \nL 4.890625 17.1875 \nL 4.890625 26.703125 \nz\n\" id=\"DejaVuSans-52\"/>\n       </defs>\n       <use xlink:href=\"#DejaVuSans-52\"/>\n      </g>\n     </g>\n    </g>\n   </g>\n   <g id=\"patch_3\">\n    <path d=\"M 28.942188 224.64 \nL 28.942188 7.2 \n\" style=\"fill:none;stroke:#000000;stroke-linecap:square;stroke-linejoin:miter;stroke-width:0.8;\"/>\n   </g>\n   <g id=\"patch_4\">\n    <path d=\"M 363.742188 224.64 \nL 363.742188 7.2 \n\" style=\"fill:none;stroke:#000000;stroke-linecap:square;stroke-linejoin:miter;stroke-width:0.8;\"/>\n   </g>\n   <g id=\"patch_5\">\n    <path d=\"M 28.942188 224.64 \nL 363.742188 224.64 \n\" style=\"fill:none;stroke:#000000;stroke-linecap:square;stroke-linejoin:miter;stroke-width:0.8;\"/>\n   </g>\n   <g id=\"patch_6\">\n    <path d=\"M 28.942188 7.2 \nL 363.742188 7.2 \n\" style=\"fill:none;stroke:#000000;stroke-linecap:square;stroke-linejoin:miter;stroke-width:0.8;\"/>\n   </g>\n  </g>\n </g>\n <defs>\n  <clipPath id=\"p3a133f4329\">\n   <rect height=\"217.44\" width=\"334.8\" x=\"28.942188\" y=\"7.2\"/>\n  </clipPath>\n </defs>\n</svg>\n",
      "image/png": "[encoded data removed]"
     },
     "metadata": {
      "needs_background": "light"
     }
    }
   ],
   "source": [
    "plt.scatter(np.array(odometry.states)[:, 0], np.array(odometry.states)[:, 1])"
   ]
  },
  {
   "cell_type": "code",
   "execution_count": 77,
   "metadata": {},
   "outputs": [],
   "source": [
    "from model import Model\n",
    "from observation import RangeModel \n",
    "from data_utils import get_prediction\n",
    "\n",
    "\n",
    "sampler = lambda shape: multivariate_normal(mean=[0], cov=(1./3**2)*np.eye(1)).rvs(size=np.product(shape))\n",
    "\n",
    "n_features = 100\n",
    "assert n_features % 2 == 0\n",
    "rff = RFF(n_features=n_features // 2, w_sampler=sampler, dim=1)\n",
    "\n",
    "#initial_values = np.zeros((n_features*3)+2*len(landscape.landmarks))\n",
    "\n",
    "range_model = RangeModel(odometry.Q[0,0])\n",
    "\n",
    "def prior_mean(t, state_estimates):\n",
    "    i = odometry.times.index(t)\n",
    "    state = get_prediction(state_estimates[i], odometry.motions[i])\n",
    "    return state\n",
    "\n",
    "initial_values = np.concatenate([np.zeros(n_features*3), landscape.landmarks.reshape(-1)])\n",
    "b_means = np.concatenate([np.zeros(n_features*3), landscape.landmarks.reshape(-1)])\n",
    "\n",
    "\n",
    "model = Model(rff=rff, \n",
    "              initial_values=initial_values,\n",
    "              initial_state=odometry.states[0],\n",
    "              times=odometry.times,\n",
    "              measurements=np.stack(odometry.observations, 0)[:, 0, [0, 2]],\n",
    "              measurement_covs=[odometry.Q[:1, :1]]*N_pts,\n",
    "              motions=odometry.motions,\n",
    "              b_means=b_means,\n",
    "              b_covs=[0.01*np.eye(n_features)]*3,\n",
    "              land_means=landscape.landmarks,\n",
    "              land_cov=[0.01*np.eye(2)]*len(landscape.landmarks),\n",
    "              observation_model=range_model,\n",
    "              prior_mean=prior_mean,\n",
    "              dampening_factor=0.01,\n",
    "            )"
   ]
  },
  {
   "cell_type": "code",
   "execution_count": 78,
   "metadata": {
    "tags": []
   },
   "outputs": [
    {
     "output_type": "stream",
     "name": "stdout",
     "text": [
      "0.08237965930133508\n",
      "0.003685217248541562\n",
      "0.0028951216759898714\n",
      "0.0027100271685977563\n",
      "0.0024860551346073552\n",
      "0.002284835232280167\n",
      "0.001920061508531093\n",
      "0.002025470736470532\n",
      "0.001768383572247454\n",
      "0.0016333082362587122\n",
      "0.0015446138838494587\n",
      "0.0015221043974307906\n",
      "0.0014367138937974855\n",
      "0.0015528288208202922\n",
      "0.0014790553012643311\n",
      "0.001428996520865542\n",
      "0.0010225440603659408\n",
      "0.0009494661382148776\n"
     ]
    }
   ],
   "source": [
    "model.run_slam(100)"
   ]
  },
  {
   "cell_type": "code",
   "execution_count": 79,
   "metadata": {},
   "outputs": [
    {
     "output_type": "execute_result",
     "data": {
      "text/plain": [
       "array([[ 2.42988769,  0.48140126,  0.133021  ],\n",
       "       [ 3.10837635,  0.49725949,  0.0955616 ],\n",
       "       [ 3.66266367,  0.46091103,  0.08307618],\n",
       "       [ 4.96386267,  0.53643048,  0.24751046],\n",
       "       [ 5.9262137 ,  0.82391721,  0.54506929],\n",
       "       [ 6.66819192,  1.21840638,  0.6673364 ],\n",
       "       [ 7.44577931,  1.86863024,  1.03537358],\n",
       "       [ 7.85246074,  2.78586035,  1.94659701],\n",
       "       [ 7.42238813,  3.81839123,  2.68571153],\n",
       "       [ 6.11399781,  4.18198363, -2.7992202 ]])"
      ]
     },
     "metadata": {},
     "execution_count": 79
    }
   ],
   "source": [
    "np.array(odometry.states[1:11])#, np.array(odometry.states[:10])+np.array(odometry.motions[:10])"
   ]
  },
  {
   "cell_type": "code",
   "execution_count": 80,
   "metadata": {},
   "outputs": [
    {
     "output_type": "execute_result",
     "data": {
      "text/plain": [
       "[array([2.5051439 , 0.48198039, 0.11934431]),\n",
       " array([3.73662663, 0.46662809, 0.12289053]),\n",
       " array([4.79309927, 0.41065315, 0.14206881]),\n",
       " array([5.89313222, 0.47333547, 0.4740361 ]),\n",
       " array([6.95017627, 0.86724507, 0.73252589]),\n",
       " array([7.80714175, 1.37550382, 0.94551983]),\n",
       " array([8.58377105, 2.15716542, 1.39665711]),\n",
       " array([8.89254975, 3.11164323, 2.06153411]),\n",
       " array([8.4646815 , 4.03679327, 2.75370973]),\n",
       " array([ 7.45423788,  4.23935603, -2.82350953])]"
      ]
     },
     "metadata": {},
     "execution_count": 80
    }
   ],
   "source": [
    "model.prior_means[:10]"
   ]
  },
  {
   "cell_type": "code",
   "execution_count": 81,
   "metadata": {},
   "outputs": [
    {
     "output_type": "execute_result",
     "data": {
      "text/plain": [
       "array([[ 2.66657397,  0.42659133,  0.1197512 ],\n",
       "       [ 3.89317606,  0.4084378 ,  0.12329317],\n",
       "       [ 4.95258885,  0.35471183,  0.14247604],\n",
       "       [ 6.05546857,  0.43109643,  0.47441735],\n",
       "       [ 7.0971595 ,  0.8106117 ,  0.73291522],\n",
       "       [ 7.94825728,  1.32381878,  0.94587678],\n",
       "       [ 8.74460024,  2.07262894,  1.39702588],\n",
       "       [ 9.03627199,  3.04659378,  2.06190745],\n",
       "       [ 8.62533648,  3.99442999,  2.75409001],\n",
       "       [ 7.61160669,  4.20465778, -2.82319567]])"
      ]
     },
     "metadata": {},
     "execution_count": 81
    }
   ],
   "source": [
    "model.states[:10]"
   ]
  },
  {
   "cell_type": "code",
   "execution_count": 48,
   "metadata": {},
   "outputs": [
    {
     "output_type": "execute_result",
     "data": {
      "text/plain": [
       "(array([[ 0.36988602, -5.58698035],\n",
       "        [ 6.12739419,  7.42731068],\n",
       "        [ 8.54930322,  5.86265283],\n",
       "        [-0.36877493,  0.62625552],\n",
       "        [-6.19470738,  2.53465497],\n",
       "        [-1.53306583,  5.85483251],\n",
       "        [-5.73854841, -6.95341559],\n",
       "        [-1.60916323, -9.81795274],\n",
       "        [ 2.59041729, -0.57816988],\n",
       "        [-3.37311895,  0.75319768],\n",
       "        [-8.28710965,  6.55864772],\n",
       "        [-6.27794594,  6.69412922],\n",
       "        [ 2.19021075, -8.77393975],\n",
       "        [ 7.20496165, -5.64705138],\n",
       "        [-0.93579949, -5.4551135 ],\n",
       "        [ 1.05910516,  1.52618639],\n",
       "        [-5.30083557,  1.38128727],\n",
       "        [ 4.12729496, -0.35618048],\n",
       "        [-4.27993394,  2.8707865 ],\n",
       "        [ 3.15630732, -4.75903717]]),\n",
       " array([[ 0.36495967, -5.59392936],\n",
       "        [ 6.13608863,  7.43608064],\n",
       "        [ 8.55858033,  5.87190527],\n",
       "        [-0.36884816,  0.62618228],\n",
       "        [-6.23825207,  2.50083814],\n",
       "        [-1.53596109,  5.92160411],\n",
       "        [-5.70009809, -6.98794528],\n",
       "        [-1.62903372, -9.82504272],\n",
       "        [ 2.60419   , -0.58371827],\n",
       "        [-3.39418998,  0.73368264],\n",
       "        [-8.28571758,  6.65060402],\n",
       "        [-6.29433748,  6.68832041],\n",
       "        [ 2.10351788, -8.81356273],\n",
       "        [ 7.12406146, -5.73685313],\n",
       "        [-0.9395938 , -5.48384853],\n",
       "        [ 1.07701171,  1.53766511],\n",
       "        [-5.30608426,  1.37739669],\n",
       "        [ 4.1339047 , -0.35573491],\n",
       "        [-4.28000717,  2.87071326],\n",
       "        [ 3.15623409, -4.75911041]]))"
      ]
     },
     "metadata": {},
     "execution_count": 48
    }
   ],
   "source": [
    "model.b[300:].reshape(-1, 2), landscape.landmarks"
   ]
  },
  {
   "cell_type": "code",
   "execution_count": null,
   "metadata": {},
   "outputs": [],
   "source": []
  }
 ]
}